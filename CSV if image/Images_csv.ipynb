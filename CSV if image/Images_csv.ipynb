{
 "cells": [
  {
   "cell_type": "code",
   "execution_count": 1,
   "id": "cef92527",
   "metadata": {},
   "outputs": [
    {
     "name": "stdout",
     "output_type": "stream",
     "text": [
      "Column Types Before Fixing:\n",
      "id                int64\n",
      "name             object\n",
      "type             object\n",
      "score           float64\n",
      "status           object\n",
      "volumes         float64\n",
      "genres           object\n",
      "demographics     object\n",
      "authors          object\n",
      "description      object\n",
      "main_picture     object\n",
      "url              object\n",
      "price             int64\n",
      "dtype: object\n",
      "\n",
      "Column Types After Fixing:\n",
      "id                int64\n",
      "name             object\n",
      "type             object\n",
      "score           float64\n",
      "status           object\n",
      "volumes           int32\n",
      "genres           object\n",
      "demographics     object\n",
      "authors          object\n",
      "description      object\n",
      "main_picture     object\n",
      "url              object\n",
      "price             int64\n",
      "dtype: object\n"
     ]
    },
    {
     "name": "stderr",
     "output_type": "stream",
     "text": [
      "C:\\Users\\Nejjari\\AppData\\Local\\Temp\\ipykernel_35668\\1957227063.py:23: SettingWithCopyWarning: \n",
      "A value is trying to be set on a copy of a slice from a DataFrame.\n",
      "Try using .loc[row_indexer,col_indexer] = value instead\n",
      "\n",
      "See the caveats in the documentation: https://pandas.pydata.org/pandas-docs/stable/user_guide/indexing.html#returning-a-view-versus-a-copy\n",
      "  filtered_df['volumes'] = filtered_df['volumes'].astype(int)\n"
     ]
    },
    {
     "name": "stdout",
     "output_type": "stream",
     "text": [
      "Filtered data saved to cleaned_manga_with_images.csv\n"
     ]
    }
   ],
   "source": [
    "import pandas as pd\n",
    "\n",
    "input_file = 'cleaned_manga10.csv'\n",
    "out_file = 'cleaned_manga_with_images.csv'\n",
    "\n",
    "df = pd.read_csv(input_file, sep=';', on_bad_lines='skip')\n",
    "\n",
    "print(\"Column Types Before Fixing:\")\n",
    "print(df.dtypes)\n",
    "\n",
    "if 'volumes' in df.columns:\n",
    "    df['volumes'] = pd.to_numeric(df['volumes'], errors='coerce').fillna(1).astype(int)\n",
    "\n",
    "filtered_df = df[df['main_picture'].notnull() & df['main_picture'].str.strip().ne('')]\n",
    "\n",
    "if 'volumes' in filtered_df.columns:\n",
    "    filtered_df['volumes'] = filtered_df['volumes'].astype(int)\n",
    "\n",
    "print(\"\\nColumn Types After Fixing:\")\n",
    "print(filtered_df.dtypes)\n",
    "\n",
    "filtered_df.to_csv(out_file, sep=';', index=False)\n",
    "\n",
    "print(f\"Filtered data saved to {out_file}\")\n",
    "\n"
   ]
  },
  {
   "cell_type": "code",
   "execution_count": 2,
   "id": "95fe97a0",
   "metadata": {},
   "outputs": [
    {
     "name": "stdout",
     "output_type": "stream",
     "text": [
      "Empty DataFrame\n",
      "Columns: [id, name, type, score, status, volumes, genres, demographics, authors, description, main_picture, url, price]\n",
      "Index: []\n"
     ]
    }
   ],
   "source": [
    "column_to_check = 'main_picture'\n",
    "data = pd.read_csv(out_file, sep=';')\n",
    "null_rows = data[data[column_to_check].isnull() | data[column_to_check].str.strip().eq('')]\n",
    "print(null_rows)"
   ]
  },
  {
   "cell_type": "code",
   "execution_count": 3,
   "id": "110ed026",
   "metadata": {},
   "outputs": [
    {
     "name": "stdout",
     "output_type": "stream",
     "text": [
      "     id                                             name   type  score  \\\n",
      "0     2                                          Berserk  manga   9.47   \n",
      "1    13                                        One Piece  manga   9.22   \n",
      "2  1706  JoJo no Kimyou na Bouken Part 7: Steel Ball Run  manga   9.30   \n",
      "3  4632                                   Oyasumi Punpun  manga   9.02   \n",
      "4    25                              Fullmetal Alchemist  manga   9.03   \n",
      "\n",
      "                 status  volumes  \\\n",
      "0  currently_publishing        1   \n",
      "1  currently_publishing        1   \n",
      "2              finished       24   \n",
      "3              finished       13   \n",
      "4              finished       27   \n",
      "\n",
      "                                              genres      demographics  \\\n",
      "0  {Action,Adventure,Award Winning,Drama,Fantasy,...          {Seinen}   \n",
      "1                         {Action,Adventure,Fantasy}         {Shounen}   \n",
      "2            {Action,Adventure,Mystery,Supernatural}  {Seinen,Shounen}   \n",
      "3                              {Drama,Slice of Life}          {Seinen}   \n",
      "4     {Action,Adventure,Award Winning,Drama,Fantasy}         {Shounen}   \n",
      "\n",
      "                        authors  \\\n",
      "0  {Kentarou Miura,Studio Gaga}   \n",
      "1                {Eiichiro Oda}   \n",
      "2              {Hirohiko Araki}   \n",
      "3                  {Inio Asano}   \n",
      "4              {Hiromu Arakawa}   \n",
      "\n",
      "                                         description  \\\n",
      "0  Guts, a former mercenary now known as the \"Bla...   \n",
      "1  Gol D. Roger, a man referred to as the \"King o...   \n",
      "2  In the American Old West, the world's greatest...   \n",
      "3  Punpun Onodera is a normal 11-year-old boy liv...   \n",
      "4  Alchemists are knowledgeable and naturally tal...   \n",
      "\n",
      "                                        main_picture  \\\n",
      "0  https://cdn.myanimelist.net/images/manga/1/157...   \n",
      "1  https://cdn.myanimelist.net/images/manga/2/253...   \n",
      "2  https://cdn.myanimelist.net/images/manga/3/179...   \n",
      "3  https://cdn.myanimelist.net/images/manga/3/266...   \n",
      "4  https://cdn.myanimelist.net/images/manga/3/243...   \n",
      "\n",
      "                                                 url  price  \n",
      "0            https://myanimelist.net/manga/2/Berserk      7  \n",
      "1         https://myanimelist.net/manga/13/One_Piece      7  \n",
      "2  https://myanimelist.net/manga/1706/JoJo_no_Kim...      7  \n",
      "3  https://myanimelist.net/manga/4632/Oyasumi_Punpun      7  \n",
      "4  https://myanimelist.net/manga/25/Fullmetal_Alc...      7  \n"
     ]
    }
   ],
   "source": [
    "print(data.head())"
   ]
  },
  {
   "cell_type": "code",
   "execution_count": 6,
   "id": "b2c04fec",
   "metadata": {},
   "outputs": [
    {
     "name": "stdout",
     "output_type": "stream",
     "text": [
      "     id                                             name   type  score  \\\n",
      "0     2                                          Berserk  manga   9.47   \n",
      "1    13                                        One Piece  manga   9.22   \n",
      "2  1706  JoJo no Kimyou na Bouken Part 7: Steel Ball Run  manga   9.30   \n",
      "3  4632                                   Oyasumi Punpun  manga   9.02   \n",
      "4    25                              Fullmetal Alchemist  manga   9.03   \n",
      "\n",
      "                 status  volumes  \\\n",
      "0  currently_publishing      NaN   \n",
      "1  currently_publishing      NaN   \n",
      "2              finished     24.0   \n",
      "3              finished     13.0   \n",
      "4              finished     27.0   \n",
      "\n",
      "                                              genres      demographics  \\\n",
      "0  {Action,Adventure,Award Winning,Drama,Fantasy,...          {Seinen}   \n",
      "1                         {Action,Adventure,Fantasy}         {Shounen}   \n",
      "2            {Action,Adventure,Mystery,Supernatural}  {Seinen,Shounen}   \n",
      "3                              {Drama,Slice of Life}          {Seinen}   \n",
      "4     {Action,Adventure,Award Winning,Drama,Fantasy}         {Shounen}   \n",
      "\n",
      "                        authors  \\\n",
      "0  {Kentarou Miura,Studio Gaga}   \n",
      "1                {Eiichiro Oda}   \n",
      "2              {Hirohiko Araki}   \n",
      "3                  {Inio Asano}   \n",
      "4              {Hiromu Arakawa}   \n",
      "\n",
      "                                         description  \\\n",
      "0  Guts, a former mercenary now known as the \"Bla...   \n",
      "1  Gol D. Roger, a man referred to as the \"King o...   \n",
      "2  In the American Old West, the world's greatest...   \n",
      "3  Punpun Onodera is a normal 11-year-old boy liv...   \n",
      "4  Alchemists are knowledgeable and naturally tal...   \n",
      "\n",
      "                                        main_picture  \\\n",
      "0  https://cdn.myanimelist.net/images/manga/1/157...   \n",
      "1  https://cdn.myanimelist.net/images/manga/2/253...   \n",
      "2  https://cdn.myanimelist.net/images/manga/3/179...   \n",
      "3  https://cdn.myanimelist.net/images/manga/3/266...   \n",
      "4  https://cdn.myanimelist.net/images/manga/3/243...   \n",
      "\n",
      "                                                 url  price  \n",
      "0            https://myanimelist.net/manga/2/Berserk      7  \n",
      "1         https://myanimelist.net/manga/13/One_Piece      7  \n",
      "2  https://myanimelist.net/manga/1706/JoJo_no_Kim...      7  \n",
      "3  https://myanimelist.net/manga/4632/Oyasumi_Punpun      7  \n",
      "4  https://myanimelist.net/manga/25/Fullmetal_Alc...      7  \n"
     ]
    }
   ],
   "source": [
    "print(df.head())"
   ]
  },
  {
   "cell_type": "code",
   "execution_count": null,
   "id": "d6e6fd11",
   "metadata": {},
   "outputs": [],
   "source": []
  }
 ],
 "metadata": {
  "kernelspec": {
   "display_name": "Python 3 (ipykernel)",
   "language": "python",
   "name": "python3"
  },
  "language_info": {
   "codemirror_mode": {
    "name": "ipython",
    "version": 3
   },
   "file_extension": ".py",
   "mimetype": "text/x-python",
   "name": "python",
   "nbconvert_exporter": "python",
   "pygments_lexer": "ipython3",
   "version": "3.11.5"
  }
 },
 "nbformat": 4,
 "nbformat_minor": 5
}
